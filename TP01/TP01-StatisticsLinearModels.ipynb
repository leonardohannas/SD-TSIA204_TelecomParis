{
 "cells": [
  {
   "cell_type": "code",
   "execution_count": 1,
   "id": "f8d7cf4e",
   "metadata": {},
   "outputs": [],
   "source": [
    "import numpy as np\n",
    "import pandas as pd\n",
    "import scipy.stats as stats\n",
    "import matplotlib.pyplot as plt\n",
    "%matplotlib inline"
   ]
  },
  {
   "cell_type": "markdown",
   "id": "b0a2addc",
   "metadata": {},
   "source": [
    "### Question 1: Importing data   "
   ]
  },
  {
   "cell_type": "code",
   "execution_count": 2,
   "id": "5f34331f",
   "metadata": {},
   "outputs": [
    {
     "data": {
      "text/html": [
       "<div>\n",
       "<style scoped>\n",
       "    .dataframe tbody tr th:only-of-type {\n",
       "        vertical-align: middle;\n",
       "    }\n",
       "\n",
       "    .dataframe tbody tr th {\n",
       "        vertical-align: top;\n",
       "    }\n",
       "\n",
       "    .dataframe thead th {\n",
       "        text-align: right;\n",
       "    }\n",
       "</style>\n",
       "<table border=\"1\" class=\"dataframe\">\n",
       "  <thead>\n",
       "    <tr style=\"text-align: right;\">\n",
       "      <th></th>\n",
       "      <th>year</th>\n",
       "      <th>gnp</th>\n",
       "      <th>invest</th>\n",
       "      <th>cpi</th>\n",
       "      <th>interest</th>\n",
       "    </tr>\n",
       "  </thead>\n",
       "  <tbody>\n",
       "    <tr>\n",
       "      <th>0</th>\n",
       "      <td>1968</td>\n",
       "      <td>873.4</td>\n",
       "      <td>133.3</td>\n",
       "      <td>82.54</td>\n",
       "      <td>5.16</td>\n",
       "    </tr>\n",
       "    <tr>\n",
       "      <th>1</th>\n",
       "      <td>1969</td>\n",
       "      <td>944.0</td>\n",
       "      <td>149.3</td>\n",
       "      <td>86.79</td>\n",
       "      <td>5.87</td>\n",
       "    </tr>\n",
       "    <tr>\n",
       "      <th>2</th>\n",
       "      <td>1970</td>\n",
       "      <td>992.7</td>\n",
       "      <td>144.2</td>\n",
       "      <td>91.45</td>\n",
       "      <td>5.95</td>\n",
       "    </tr>\n",
       "    <tr>\n",
       "      <th>3</th>\n",
       "      <td>1971</td>\n",
       "      <td>1077.6</td>\n",
       "      <td>166.4</td>\n",
       "      <td>96.01</td>\n",
       "      <td>4.88</td>\n",
       "    </tr>\n",
       "    <tr>\n",
       "      <th>4</th>\n",
       "      <td>1972</td>\n",
       "      <td>1185.9</td>\n",
       "      <td>195.0</td>\n",
       "      <td>100.00</td>\n",
       "      <td>4.50</td>\n",
       "    </tr>\n",
       "  </tbody>\n",
       "</table>\n",
       "</div>"
      ],
      "text/plain": [
       "   year     gnp  invest     cpi  interest\n",
       "0  1968   873.4   133.3   82.54      5.16\n",
       "1  1969   944.0   149.3   86.79      5.87\n",
       "2  1970   992.7   144.2   91.45      5.95\n",
       "3  1971  1077.6   166.4   96.01      4.88\n",
       "4  1972  1185.9   195.0  100.00      4.50"
      ]
     },
     "execution_count": 2,
     "metadata": {},
     "output_type": "execute_result"
    }
   ],
   "source": [
    "df = pd.read_csv('invest.txt', sep=' ')\n",
    "df.head()"
   ]
  },
  {
   "cell_type": "markdown",
   "id": "1132edca",
   "metadata": {},
   "source": [
    "### Question 2: Linear scatter plot of Invest *vs* GNP"
   ]
  },
  {
   "cell_type": "code",
   "execution_count": 13,
   "id": "3ce3290f",
   "metadata": {},
   "outputs": [
    {
     "data": {
      "image/png": "[encoded data removed]",
      "text/plain": [
       "<Figure size 720x432 with 1 Axes>"
      ]
     },
     "metadata": {
      "needs_background": "light"
     },
     "output_type": "display_data"
    }
   ],
   "source": [
    "plt.figure(figsize=(10, 6))\n",
    "plt.scatter(x=df['gnp'], y=df['invest'])\n",
    "plt.plot(df['gnp'], df['invest'], linestyle='-')\n",
    "plt.title('Investment vs GNP')\n",
    "plt.xlabel('GNP')  # Gross National Product\n",
    "plt.ylabel('Invest')\n",
    "plt.show()"
   ]
  },
  {
   "cell_type": "markdown",
   "id": "685e9580",
   "metadata": {},
   "source": [
    "**We now apply the logarithm scale into the dataframe**"
   ]
  },
  {
   "cell_type": "code",
   "execution_count": 4,
   "id": "9b89d977",
   "metadata": {},
   "outputs": [
    {
     "data": {
      "text/html": [
       "<div>\n",
       "<style scoped>\n",
       "    .dataframe tbody tr th:only-of-type {\n",
       "        vertical-align: middle;\n",
       "    }\n",
       "\n",
       "    .dataframe tbody tr th {\n",
       "        vertical-align: top;\n",
       "    }\n",
       "\n",
       "    .dataframe thead th {\n",
       "        text-align: right;\n",
       "    }\n",
       "</style>\n",
       "<table border=\"1\" class=\"dataframe\">\n",
       "  <thead>\n",
       "    <tr style=\"text-align: right;\">\n",
       "      <th></th>\n",
       "      <th>year</th>\n",
       "      <th>gnp</th>\n",
       "      <th>invest</th>\n",
       "      <th>cpi</th>\n",
       "      <th>interest</th>\n",
       "    </tr>\n",
       "  </thead>\n",
       "  <tbody>\n",
       "    <tr>\n",
       "      <th>0</th>\n",
       "      <td>7.584773</td>\n",
       "      <td>6.772394</td>\n",
       "      <td>4.892602</td>\n",
       "      <td>4.413283</td>\n",
       "      <td>1.640937</td>\n",
       "    </tr>\n",
       "    <tr>\n",
       "      <th>1</th>\n",
       "      <td>7.585281</td>\n",
       "      <td>6.850126</td>\n",
       "      <td>5.005958</td>\n",
       "      <td>4.463491</td>\n",
       "      <td>1.769855</td>\n",
       "    </tr>\n",
       "    <tr>\n",
       "      <th>2</th>\n",
       "      <td>7.585789</td>\n",
       "      <td>6.900429</td>\n",
       "      <td>4.971201</td>\n",
       "      <td>4.515792</td>\n",
       "      <td>1.783391</td>\n",
       "    </tr>\n",
       "    <tr>\n",
       "      <th>3</th>\n",
       "      <td>7.586296</td>\n",
       "      <td>6.982492</td>\n",
       "      <td>5.114395</td>\n",
       "      <td>4.564452</td>\n",
       "      <td>1.585145</td>\n",
       "    </tr>\n",
       "    <tr>\n",
       "      <th>4</th>\n",
       "      <td>7.586804</td>\n",
       "      <td>7.078257</td>\n",
       "      <td>5.273000</td>\n",
       "      <td>4.605170</td>\n",
       "      <td>1.504077</td>\n",
       "    </tr>\n",
       "  </tbody>\n",
       "</table>\n",
       "</div>"
      ],
      "text/plain": [
       "       year       gnp    invest       cpi  interest\n",
       "0  7.584773  6.772394  4.892602  4.413283  1.640937\n",
       "1  7.585281  6.850126  5.005958  4.463491  1.769855\n",
       "2  7.585789  6.900429  4.971201  4.515792  1.783391\n",
       "3  7.586296  6.982492  5.114395  4.564452  1.585145\n",
       "4  7.586804  7.078257  5.273000  4.605170  1.504077"
      ]
     },
     "execution_count": 4,
     "metadata": {},
     "output_type": "execute_result"
    }
   ],
   "source": [
    "df_log = np.log(df)\n",
    "df_log.head()"
   ]
  },
  {
   "cell_type": "code",
   "execution_count": 5,
   "id": "d9d058c1",
   "metadata": {},
   "outputs": [
    {
     "data": {
      "image/png": "[encoded data removed]",
      "text/plain": [
       "<Figure size 720x432 with 1 Axes>"
      ]
     },
     "metadata": {
      "needs_background": "light"
     },
     "output_type": "display_data"
    }
   ],
   "source": [
    "plt.figure(figsize=(10, 6))\n",
    "plt.scatter(x=df_log['gnp'], y=df_log['invest'])\n",
    "plt.plot(df_log['gnp'], df_log['invest'], linestyle='-')\n",
    "plt.title('Investment vs GNP: log-log scale')\n",
    "plt.xlabel('log(GNP)')\n",
    "plt.ylabel('log(Invest)')\n",
    "plt.show()"
   ]
  },
  {
   "cell_type": "markdown",
   "id": "3835bd47",
   "metadata": {},
   "source": [
    "## Question 3: Point estimation"
   ]
  },
  {
   "cell_type": "code",
   "execution_count": 6,
   "id": "a7889247",
   "metadata": {},
   "outputs": [],
   "source": [
    "x = np.array(df_log['gnp'])\n",
    "Y = np.array(df_log['invest'])\n",
    "\n",
    "x_bar = x.mean()\n",
    "Y_bar = Y.mean()"
   ]
  },
  {
   "cell_type": "markdown",
   "id": "224f3ba3",
   "metadata": {},
   "source": [
    "**Computing the intercept $\\hat{\\beta_0}$ and the slope $\\hat{\\beta_1}$ of the linear regression**"
   ]
  },
  {
   "cell_type": "code",
   "execution_count": 7,
   "id": "20b88d02",
   "metadata": {},
   "outputs": [
    {
     "name": "stdout",
     "output_type": "stream",
     "text": [
      "Intercept B0 = -1.9636\n",
      "Slope B1 = 1.0153\n"
     ]
    }
   ],
   "source": [
    "B1 = np.sum((x - x_bar) * (Y - Y_bar)) / np.sum((x - x_bar) ** 2)\n",
    "B0 = Y_bar - B1 * x_bar\n",
    "\n",
    "print(f\"Intercept B0 = {B0:.4f}\")\n",
    "print(f\"Slope B1 = {B1:.4f}\")"
   ]
  },
  {
   "cell_type": "markdown",
   "id": "e6d050ea",
   "metadata": {},
   "source": [
    "**Computing the variance of the intercept $\\hat{\\beta_0}$ and of the slope $\\hat{\\beta_1}$**"
   ]
  },
  {
   "cell_type": "code",
   "execution_count": 8,
   "id": "f87c28fe",
   "metadata": {},
   "outputs": [
    {
     "name": "stdout",
     "output_type": "stream",
     "text": [
      "Standard deviation of B0 = 0.4095\n",
      "Standard deviation of B1 = 0.0554\n"
     ]
    }
   ],
   "source": [
    "# We first define the regression function\n",
    "def Y_pred(x):\n",
    "    return B0 + B1 * x\n",
    "\n",
    "# Number of samples\n",
    "n = len(x)\n",
    "\n",
    "# Unbiased estimator of the variance of the residual\n",
    "sigma2 = np.sum((Y - Y_pred(x)) ** 2) / (n - 2)\n",
    "\n",
    "# Standard deviation of the regression coefficients\n",
    "std_B0 = np.sqrt(sigma2 * (1 / n + x_bar ** 2 / np.sum((x - x_bar) ** 2)))\n",
    "std_B1 = np.sqrt(sigma2 / np.sum((x - x_bar) ** 2))\n",
    "\n",
    "print(f\"Standard deviation of B0 = {std_B0:.4f}\")\n",
    "print(f\"Standard deviation of B1 = {std_B1:.4f}\")"
   ]
  },
  {
   "cell_type": "markdown",
   "id": "861b1bc9",
   "metadata": {},
   "source": [
    "**Computing the coefficient $R^{2}$ of the OLS**"
   ]
  },
  {
   "cell_type": "code",
   "execution_count": 9,
   "id": "7f5c33df",
   "metadata": {},
   "outputs": [
    {
     "name": "stdout",
     "output_type": "stream",
     "text": [
      "R2 = 0.9628\n"
     ]
    }
   ],
   "source": [
    "R2 = 1 - np.sum((Y - Y_pred(x)) ** 2) / np.sum((Y - Y_bar) ** 2)\n",
    "print(f\"R2 = {R2:.4f}\")"
   ]
  },
  {
   "cell_type": "code",
   "execution_count": 10,
   "metadata": {},
   "outputs": [
    {
     "data": {
      "image/png": "[encoded data removed]",
      "text/plain": [
       "<Figure size 720x432 with 1 Axes>"
      ]
     },
     "metadata": {
      "needs_background": "light"
     },
     "output_type": "display_data"
    }
   ],
   "source": [
    "plt.figure(figsize=(10, 6))\n",
    "\n",
    "# Orginial data\n",
    "plt.scatter(x=df_log['gnp'], y=df_log['invest'], label='Original Data')\n",
    "plt.plot(df_log['gnp'], df_log['invest'], linestyle='-')\n",
    "\n",
    "# Regression line\n",
    "plt.plot(df_log['gnp'], Y_pred(df_log['gnp']), color='red', label='Regression Line')\n",
    "\n",
    "plt.title('Investment vs GNP: log-log scale')\n",
    "plt.xlabel('log(GNP)')\n",
    "plt.ylabel('log(Invest)')\n",
    "plt.legend()\n",
    "plt.show()"
   ]
  },
  {
   "cell_type": "markdown",
   "id": "ee9bbb1f",
   "metadata": {},
   "source": [
    "## Question 4: Significance of the slope\n",
    "\n",
    "**The test to be performed is consisted by:**\n",
    "* Null hypothesis: $H_{0} = \\{\\beta_{1} = 0\\}$\n",
    "* Alternative hypothesis: $H_{1} = \\{\\beta_{1} \\neq 0\\}$\n",
    "\n",
    "The t-statistic test is of the following form:\n",
    "\n",
    "$$\n",
    "u = \\frac{\\hat \\beta_{1} - \\beta_{1}}{\\sqrt{Var(\\hat \\beta_{1})}} \\sim t\\left(n-(p+1)\\right)\n",
    "$$\n",
    "\n",
    "Given that there is only a single slope, $p = 1$. Moreover, under the null hypothesis, $\\beta_{1} = 0$. So the test becomes:\n",
    "\n",
    "$$\n",
    "u = \\frac{\\hat \\beta_{1}}{\\sqrt{Var(\\hat \\beta_{1})}} \\sim t\\left(n-2\\right)\n",
    "$$\n",
    "\n",
    "Then, the test is two-sided, so we compute the probability of observing a test statistic as extreme as $|u|$ in both tails of the distribution."
   ]
  },
  {
   "cell_type": "code",
   "execution_count": 11,
   "id": "ad346bbb",
   "metadata": {},
   "outputs": [
    {
     "name": "stdout",
     "output_type": "stream",
     "text": [
      "t-statistic for B1 = 18.331984456866678\n",
      "P-value for B1 = 1.1363709973011282e-10\n"
     ]
    }
   ],
   "source": [
    "# t-statistic for B1\n",
    "t_B1 = B1 / std_B1\n",
    "\n",
    "# P-value for B1\n",
    "p_B1 = 2 * (1 - stats.t.cdf(np.abs(t_B1), df=n-2))\n",
    "\n",
    "print(f\"t-statistic for B1 = {t_B1}\")\n",
    "print(f\"P-value for B1 = {p_B1}\")"
   ]
  },
  {
   "cell_type": "markdown",
   "id": "fd2e16a3",
   "metadata": {},
   "source": [
    "Given that the obtained p-value is less than any feasible value of the significance level $\\alpha$, **we reject the null hypothesis $H_{0}$**."
   ]
  },
  {
   "cell_type": "markdown",
   "id": "a60f9dc2",
   "metadata": {},
   "source": [
    "## Question 5:\n",
    "\n",
    "For the GNP value 1000, estimate the necessary Investment, provide conﬁdence and prediction\n",
    "intervals for the 90% level."
   ]
  },
  {
   "cell_type": "code",
   "execution_count": 12,
   "id": "22f69671",
   "metadata": {},
   "outputs": [],
   "source": [
    "alpha = 0.1\n"
   ]
  },
  {
   "cell_type": "code",
   "execution_count": null,
   "id": "951c8774",
   "metadata": {},
   "outputs": [],
   "source": []
  }
 ],
 "metadata": {
  "kernelspec": {
   "display_name": "Python 3 (ipykernel)",
   "language": "python",
   "name": "python3"
  },
  "language_info": {
   "codemirror_mode": {
    "name": "ipython",
    "version": 3
   },
   "file_extension": ".py",
   "mimetype": "text/x-python",
   "name": "python",
   "nbconvert_exporter": "python",
   "pygments_lexer": "ipython3",
   "version": "3.9.12"
  }
 },
 "nbformat": 4,
 "nbformat_minor": 5
}
